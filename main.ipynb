{
 "cells": [
  {
   "cell_type": "markdown",
   "metadata": {},
   "source": [
    "1. Bootstrapping (bagging - bootstrap aggregating):\n",
    " - техника выбора с повторениями\n",
    " - из общего пула данных берём отдельный объект, вносим его в выборку, формируем подвыборку из многих объектов, после чего кладём объекты назад\n",
    " - получается, случайно определяем количество подвыборок\n",
    " - случайно определяем размер каждой подвыборки (возможно при помощи random.randint), случайным образом выбираем элементы выборки и сохраняем в подвыборку\n",
    " - делаем все подвыборки, записываем их в список (List)\n",
    "\n",
    " - таким же образом поступаем со столбцами\n",
    " - определяем кол-во подвыборок столбцов\n",
    " - определяем размер каждого датафрейма (сколько столбцов он будет включать)\n",
    " - случайным образом определяем кол-во столбцов в каждой подвыборке\n",
    " - записываем подвыборки в список\n",
    "\n",
    " - записываем в список используемые модели \n",
    "\n",
    " - прогоняем все выборки через каждую модель из списка\n",
    "\n",
    " - сохраняем результаты MSE для каждого прогона\n",
    "\n",
    " - создаем метод, в котором будет вычисляться значение predict для каждой модели и усредняться его значение\n",
    "\n",
    " - вычисляем общую MSE для ансамбля\n",
    "\n",
    " - сравниваем все MSE"
   ]
  },
  {
   "cell_type": "code",
   "execution_count": 2,
   "metadata": {},
   "outputs": [],
   "source": [
    "from tqdm import tqdm\n",
    "import warnings\n",
    "warnings.simplefilter(\"ignore\")"
   ]
  },
  {
   "cell_type": "code",
   "execution_count": 3,
   "metadata": {},
   "outputs": [],
   "source": [
    "import numpy as np\n",
    "import pandas as pd\n",
    "from matplotlib import pyplot as plt\n",
    "plt.rcParams['figure.figsize'] = 10, 6"
   ]
  },
  {
   "cell_type": "code",
   "execution_count": 15,
   "metadata": {},
   "outputs": [],
   "source": [
    "from sklearn.datasets import load_digits as load\n",
    "from sklearn.datasets import load_diabetes as diab\n",
    "from sklearn.model_selection import cross_val_score, train_test_split, GridSearchCV\n",
    "from sklearn.ensemble import BaggingClassifier, BaggingRegressor, RandomForestClassifier, RandomForestRegressor\n",
    "from sklearn.neighbors import KNeighborsClassifier\n",
    "from sklearn.linear_model import LogisticRegression\n",
    "from sklearn.tree import DecisionTreeClassifier, DecisionTreeRegressor\n",
    "from sklearn.metrics import accuracy_score, precision_score, recall_score"
   ]
  },
  {
   "cell_type": "code",
   "execution_count": 5,
   "metadata": {},
   "outputs": [],
   "source": [
    "digits = load()\n",
    "X = digits.data\n",
    "y = digits.target"
   ]
  },
  {
   "cell_type": "code",
   "execution_count": 13,
   "metadata": {},
   "outputs": [],
   "source": [
    "f = X.shape[1]\n",
    "\n",
    "rnd_d3 = DecisionTreeClassifier(max_features=int(f ** 0.5))\n",
    "d3 = DecisionTreeClassifier()"
   ]
  },
  {
   "cell_type": "code",
   "execution_count": 9,
   "metadata": {},
   "outputs": [
    {
     "data": {
      "text/plain": [
       "1.0"
      ]
     },
     "execution_count": 9,
     "metadata": {},
     "output_type": "execute_result"
    }
   ],
   "source": [
    "d3.fit(X, y)\n",
    "d3.score(X, y)"
   ]
  },
  {
   "cell_type": "code",
   "execution_count": 11,
   "metadata": {},
   "outputs": [
    {
     "name": "stdout",
     "output_type": "stream",
     "text": [
      "Decision tree cross_val_score: 0.7841318477251625\n"
     ]
    }
   ],
   "source": [
    "print(\"Decision tree cross_val_score:\", cross_val_score(d3, X, y).mean())"
   ]
  },
  {
   "cell_type": "code",
   "execution_count": 12,
   "metadata": {},
   "outputs": [
    {
     "name": "stdout",
     "output_type": "stream",
     "text": [
      "Bagging cross_val_score: 0.8759455277004022\n"
     ]
    }
   ],
   "source": [
    "print(\"Bagging cross_val_score:\", cross_val_score(BaggingClassifier(d3), X, y).mean())"
   ]
  },
  {
   "cell_type": "code",
   "execution_count": 14,
   "metadata": {},
   "outputs": [
    {
     "name": "stdout",
     "output_type": "stream",
     "text": [
      "Randomized Bagging cross_val_score: 0.9048638192510058\n"
     ]
    }
   ],
   "source": [
    "print(\"Randomized Bagging cross_val_score:\", cross_val_score(BaggingClassifier(rnd_d3), X, y).mean())"
   ]
  },
  {
   "cell_type": "code",
   "execution_count": 23,
   "metadata": {},
   "outputs": [],
   "source": [
    "data = diab(as_frame=True).data\n",
    "target = diab(as_frame=True).target"
   ]
  },
  {
   "cell_type": "code",
   "execution_count": 24,
   "metadata": {},
   "outputs": [
    {
     "data": {
      "text/plain": [
       "0      151.0\n",
       "1       75.0\n",
       "2      141.0\n",
       "3      206.0\n",
       "4      135.0\n",
       "       ...  \n",
       "437    178.0\n",
       "438    104.0\n",
       "439    132.0\n",
       "440    220.0\n",
       "441     57.0\n",
       "Name: target, Length: 442, dtype: float64"
      ]
     },
     "execution_count": 24,
     "metadata": {},
     "output_type": "execute_result"
    }
   ],
   "source": [
    "target"
   ]
  },
  {
   "cell_type": "code",
   "execution_count": 25,
   "metadata": {},
   "outputs": [
    {
     "data": {
      "text/html": [
       "<div>\n",
       "<style scoped>\n",
       "    .dataframe tbody tr th:only-of-type {\n",
       "        vertical-align: middle;\n",
       "    }\n",
       "\n",
       "    .dataframe tbody tr th {\n",
       "        vertical-align: top;\n",
       "    }\n",
       "\n",
       "    .dataframe thead th {\n",
       "        text-align: right;\n",
       "    }\n",
       "</style>\n",
       "<table border=\"1\" class=\"dataframe\">\n",
       "  <thead>\n",
       "    <tr style=\"text-align: right;\">\n",
       "      <th></th>\n",
       "      <th>age</th>\n",
       "      <th>sex</th>\n",
       "      <th>bmi</th>\n",
       "      <th>bp</th>\n",
       "      <th>s1</th>\n",
       "      <th>s2</th>\n",
       "      <th>s3</th>\n",
       "      <th>s4</th>\n",
       "      <th>s5</th>\n",
       "      <th>s6</th>\n",
       "    </tr>\n",
       "  </thead>\n",
       "  <tbody>\n",
       "    <tr>\n",
       "      <th>0</th>\n",
       "      <td>0.038076</td>\n",
       "      <td>0.050680</td>\n",
       "      <td>0.061696</td>\n",
       "      <td>0.021872</td>\n",
       "      <td>-0.044223</td>\n",
       "      <td>-0.034821</td>\n",
       "      <td>-0.043401</td>\n",
       "      <td>-0.002592</td>\n",
       "      <td>0.019907</td>\n",
       "      <td>-0.017646</td>\n",
       "    </tr>\n",
       "    <tr>\n",
       "      <th>1</th>\n",
       "      <td>-0.001882</td>\n",
       "      <td>-0.044642</td>\n",
       "      <td>-0.051474</td>\n",
       "      <td>-0.026328</td>\n",
       "      <td>-0.008449</td>\n",
       "      <td>-0.019163</td>\n",
       "      <td>0.074412</td>\n",
       "      <td>-0.039493</td>\n",
       "      <td>-0.068332</td>\n",
       "      <td>-0.092204</td>\n",
       "    </tr>\n",
       "    <tr>\n",
       "      <th>2</th>\n",
       "      <td>0.085299</td>\n",
       "      <td>0.050680</td>\n",
       "      <td>0.044451</td>\n",
       "      <td>-0.005670</td>\n",
       "      <td>-0.045599</td>\n",
       "      <td>-0.034194</td>\n",
       "      <td>-0.032356</td>\n",
       "      <td>-0.002592</td>\n",
       "      <td>0.002861</td>\n",
       "      <td>-0.025930</td>\n",
       "    </tr>\n",
       "    <tr>\n",
       "      <th>3</th>\n",
       "      <td>-0.089063</td>\n",
       "      <td>-0.044642</td>\n",
       "      <td>-0.011595</td>\n",
       "      <td>-0.036656</td>\n",
       "      <td>0.012191</td>\n",
       "      <td>0.024991</td>\n",
       "      <td>-0.036038</td>\n",
       "      <td>0.034309</td>\n",
       "      <td>0.022688</td>\n",
       "      <td>-0.009362</td>\n",
       "    </tr>\n",
       "    <tr>\n",
       "      <th>4</th>\n",
       "      <td>0.005383</td>\n",
       "      <td>-0.044642</td>\n",
       "      <td>-0.036385</td>\n",
       "      <td>0.021872</td>\n",
       "      <td>0.003935</td>\n",
       "      <td>0.015596</td>\n",
       "      <td>0.008142</td>\n",
       "      <td>-0.002592</td>\n",
       "      <td>-0.031988</td>\n",
       "      <td>-0.046641</td>\n",
       "    </tr>\n",
       "    <tr>\n",
       "      <th>...</th>\n",
       "      <td>...</td>\n",
       "      <td>...</td>\n",
       "      <td>...</td>\n",
       "      <td>...</td>\n",
       "      <td>...</td>\n",
       "      <td>...</td>\n",
       "      <td>...</td>\n",
       "      <td>...</td>\n",
       "      <td>...</td>\n",
       "      <td>...</td>\n",
       "    </tr>\n",
       "    <tr>\n",
       "      <th>437</th>\n",
       "      <td>0.041708</td>\n",
       "      <td>0.050680</td>\n",
       "      <td>0.019662</td>\n",
       "      <td>0.059744</td>\n",
       "      <td>-0.005697</td>\n",
       "      <td>-0.002566</td>\n",
       "      <td>-0.028674</td>\n",
       "      <td>-0.002592</td>\n",
       "      <td>0.031193</td>\n",
       "      <td>0.007207</td>\n",
       "    </tr>\n",
       "    <tr>\n",
       "      <th>438</th>\n",
       "      <td>-0.005515</td>\n",
       "      <td>0.050680</td>\n",
       "      <td>-0.015906</td>\n",
       "      <td>-0.067642</td>\n",
       "      <td>0.049341</td>\n",
       "      <td>0.079165</td>\n",
       "      <td>-0.028674</td>\n",
       "      <td>0.034309</td>\n",
       "      <td>-0.018114</td>\n",
       "      <td>0.044485</td>\n",
       "    </tr>\n",
       "    <tr>\n",
       "      <th>439</th>\n",
       "      <td>0.041708</td>\n",
       "      <td>0.050680</td>\n",
       "      <td>-0.015906</td>\n",
       "      <td>0.017293</td>\n",
       "      <td>-0.037344</td>\n",
       "      <td>-0.013840</td>\n",
       "      <td>-0.024993</td>\n",
       "      <td>-0.011080</td>\n",
       "      <td>-0.046883</td>\n",
       "      <td>0.015491</td>\n",
       "    </tr>\n",
       "    <tr>\n",
       "      <th>440</th>\n",
       "      <td>-0.045472</td>\n",
       "      <td>-0.044642</td>\n",
       "      <td>0.039062</td>\n",
       "      <td>0.001215</td>\n",
       "      <td>0.016318</td>\n",
       "      <td>0.015283</td>\n",
       "      <td>-0.028674</td>\n",
       "      <td>0.026560</td>\n",
       "      <td>0.044529</td>\n",
       "      <td>-0.025930</td>\n",
       "    </tr>\n",
       "    <tr>\n",
       "      <th>441</th>\n",
       "      <td>-0.045472</td>\n",
       "      <td>-0.044642</td>\n",
       "      <td>-0.073030</td>\n",
       "      <td>-0.081413</td>\n",
       "      <td>0.083740</td>\n",
       "      <td>0.027809</td>\n",
       "      <td>0.173816</td>\n",
       "      <td>-0.039493</td>\n",
       "      <td>-0.004222</td>\n",
       "      <td>0.003064</td>\n",
       "    </tr>\n",
       "  </tbody>\n",
       "</table>\n",
       "<p>442 rows × 10 columns</p>\n",
       "</div>"
      ],
      "text/plain": [
       "          age       sex       bmi  ...        s4        s5        s6\n",
       "0    0.038076  0.050680  0.061696  ... -0.002592  0.019907 -0.017646\n",
       "1   -0.001882 -0.044642 -0.051474  ... -0.039493 -0.068332 -0.092204\n",
       "2    0.085299  0.050680  0.044451  ... -0.002592  0.002861 -0.025930\n",
       "3   -0.089063 -0.044642 -0.011595  ...  0.034309  0.022688 -0.009362\n",
       "4    0.005383 -0.044642 -0.036385  ... -0.002592 -0.031988 -0.046641\n",
       "..        ...       ...       ...  ...       ...       ...       ...\n",
       "437  0.041708  0.050680  0.019662  ... -0.002592  0.031193  0.007207\n",
       "438 -0.005515  0.050680 -0.015906  ...  0.034309 -0.018114  0.044485\n",
       "439  0.041708  0.050680 -0.015906  ... -0.011080 -0.046883  0.015491\n",
       "440 -0.045472 -0.044642  0.039062  ...  0.026560  0.044529 -0.025930\n",
       "441 -0.045472 -0.044642 -0.073030  ... -0.039493 -0.004222  0.003064\n",
       "\n",
       "[442 rows x 10 columns]"
      ]
     },
     "execution_count": 25,
     "metadata": {},
     "output_type": "execute_result"
    }
   ],
   "source": [
    "data"
   ]
  },
  {
   "cell_type": "code",
   "execution_count": 26,
   "metadata": {},
   "outputs": [],
   "source": [
    "X_train, X_test, y_train, y_test = train_test_split(data, target, test_size=0.35)"
   ]
  },
  {
   "cell_type": "code",
   "execution_count": 27,
   "metadata": {},
   "outputs": [
    {
     "name": "stdout",
     "output_type": "stream",
     "text": [
      "(287, 10) (155, 10) (287,) (155,)\n"
     ]
    }
   ],
   "source": [
    "print(X_train.shape, X_test.shape, y_train.shape, y_test.shape)"
   ]
  },
  {
   "cell_type": "code",
   "execution_count": 38,
   "metadata": {},
   "outputs": [
    {
     "name": "stdout",
     "output_type": "stream",
     "text": [
      "RF CV accuracy_score: 0.311\n",
      "RF test accuracy_score: 0.477\n"
     ]
    }
   ],
   "source": [
    "rf = RandomForestRegressor(random_state=42, n_jobs=-2, oob_score=True, n_estimators=1000)\n",
    "\n",
    "cv_results = cross_val_score(rf, X_train, y_train)\n",
    "\n",
    "print(f\"RF CV accuracy_score: {cv_results.mean():.3f}\")\n",
    "print(f\"RF test accuracy_score: {rf.fit(X_train, y_train).score(X_test, y_test):.3f}\")"
   ]
  },
  {
   "cell_type": "code",
   "execution_count": 39,
   "metadata": {},
   "outputs": [
    {
     "name": "stdout",
     "output_type": "stream",
     "text": [
      "[ 87.958 192.442 212.181 165.214 172.141  80.99  255.543  76.101  89.672\n",
      " 217.787  88.3   242.735 195.143 121.955 132.702 221.811  90.369 183.024\n",
      "  99.579 105.736 169.732 161.377 127.122 184.134 149.326 205.311 104.5\n",
      "  83.531 128.409 141.499 208.884 116.236 168.273 242.562 134.29  224.586\n",
      " 146.216 150.021 105.398 135.945 153.879  88.381  87.282 244.771 173.599\n",
      " 212.957 145.732  78.729 177.035 108.683  91.083 104.521 170.246  99.383\n",
      " 151.504  97.898  84.729  83.11   85.354 112.396 122.877 160.446 148.675\n",
      "  93.946 173.42  155.12  113.291 112.846  91.932 152.723 165.882  90.201\n",
      " 241.869 133.495 145.625 154.953 183.824 134.304 143.877 184.794  99.359\n",
      "  89.208 208.444  93.032 115.16  177.636 243.711 149.939 254.084 189.431\n",
      " 230.129 172.389 117.151 235.114 155.313 178.374 237.988 132.647 184.218\n",
      " 208.522 251.798 143.201 224.408 103.812 258.944 160.575 119.841 166.948\n",
      " 201.719  83.614 154.107 221.918 109.737 114.537 170.98   83.957 133.049\n",
      " 174.092 104.755 230.355 168.223 240.597  92.133 114.831  92.007 230.659\n",
      " 145.582 144.929 285.21  190.186 165.354 108.481 109.851  90.468  91.773\n",
      " 135.673 205.455 255.955 109.244 176.904 233.607 134.119 263.734 123.458\n",
      " 150.507 108.59  140.588  85.229 122.361 130.402  70.605 239.784 233.716\n",
      " 101.189 142.574]\n"
     ]
    }
   ],
   "source": [
    "print(rf.predict(X_test))"
   ]
  },
  {
   "cell_type": "code",
   "execution_count": 40,
   "metadata": {},
   "outputs": [
    {
     "name": "stdout",
     "output_type": "stream",
     "text": [
      "294     55.0\n",
      "205     99.0\n",
      "139    281.0\n",
      "180    107.0\n",
      "169    152.0\n",
      "       ...  \n",
      "6      138.0\n",
      "366    233.0\n",
      "217    296.0\n",
      "106    134.0\n",
      "164    214.0\n",
      "Name: target, Length: 155, dtype: float64\n"
     ]
    }
   ],
   "source": [
    "print(y_test)"
   ]
  },
  {
   "cell_type": "code",
   "execution_count": 31,
   "metadata": {},
   "outputs": [
    {
     "data": {
      "text/plain": [
       "0.013937282229965157"
      ]
     },
     "execution_count": 31,
     "metadata": {},
     "output_type": "execute_result"
    }
   ],
   "source": [
    "rf.oob_score_"
   ]
  },
  {
   "cell_type": "markdown",
   "metadata": {},
   "source": [
    "2. Blending\n",
    "\n",
    " - делим обучающую выборку на 2 подвыборки\n",
    "\n",
    " - обучаем несколько моделей на одной из подвыборок (KNN, Naive Bayes, SVM, LogisticRegression, DecisionTree, RandomForest)\n",
    "\n",
    " - Для 2-й подвыборки делаем предсказание каждой моделью значения таргета\n",
    " \n",
    " - У нас появилась новая обучающая выборка в новом признаковом пространстве (состоящая из предсказаний таргета каждой из моделей)\n",
    " \n",
    " - обучаем какую-нибудь другую модель (например взвешенная средняя) на новом датасете\n",
    " \n",
    " - откуда брать Ро - в лекции не сказано ()\n",
    " \n",
    " - получается на тестовой выборке делается predict и совокупность predict'ов скармливается в model.fit последней модели\n",
    " \n",
    " - и для предсказания нам нужно:\n",
    " \n",
    "    а) сделать predict на всех моделях\n",
    "    \n",
    "    б) сделать predict из predict'ов на последней модели\n",
    "    \n",
    "\n"
   ]
  },
  {
   "cell_type": "markdown",
   "metadata": {},
   "source": [
    "3. Stacking\n",
    "\n",
    "- заранее отделяем часть выборки для последнего тестирования\n",
    "\n",
    "- делим оставшиеся данные на 3 фолда\n",
    "\n",
    "- делим для каждого алгоритма - 2/3 обучение, 1/3 + тестовые данные - для предсказания, все комбинации\n",
    "\n",
    "- получается - для всей обуч.выборки есть предсказания для 10 базовых алгоритмов и данные не потеряны\n",
    "\n",
    "- после этого берем все наши модели, обучаем на всей модели полностью и предсказать метапризнаки для тестовой части выборки\n",
    "\n",
    "- предсказанные 10-ю моделями данные являются метапризнаками \n",
    "\n",
    "- новая модель обучается на метапризнаках\n",
    "\n",
    "- вероятно - также пропустить тестовый датасет через все 10 моделей для создания аналогичных метапризнаков и скормить их новой модели"
   ]
  }
 ],
 "metadata": {
  "kernelspec": {
   "display_name": "myenv",
   "language": "python",
   "name": "python3"
  },
  "language_info": {
   "codemirror_mode": {
    "name": "ipython",
    "version": 3
   },
   "file_extension": ".py",
   "mimetype": "text/x-python",
   "name": "python",
   "nbconvert_exporter": "python",
   "pygments_lexer": "ipython3",
   "version": "3.10.11"
  }
 },
 "nbformat": 4,
 "nbformat_minor": 2
}
